{
 "cells": [
  {
   "cell_type": "code",
   "execution_count": 1,
   "metadata": {},
   "outputs": [],
   "source": [
    "from nutsml import *\n",
    "from nutsflow import *"
   ]
  },
  {
   "cell_type": "code",
   "execution_count": 100,
   "metadata": {},
   "outputs": [
    {
     "name": "stdout",
     "output_type": "stream",
     "text": [
      "tests/data/img_formats\\nut_color.gif\n",
      "item 0: <tuple>\n",
      "tests/data/img_formats\\nut_grayscale.gif\n",
      "item 1: <tuple>\n",
      "tests/data/img_formats\\nut_monochrome.gif\n",
      "item 2: <tuple>\n"
     ]
    }
   ],
   "source": [
    "from glob import glob\n",
    "filepaths = glob('tests/data/img_formats/*.gif')\n",
    "filepaths >> Print() >> ReadImage(None) >> PrintColType() >> Consume()"
   ]
  },
  {
   "cell_type": "code",
   "execution_count": 103,
   "metadata": {},
   "outputs": [
    {
     "name": "stdout",
     "output_type": "stream",
     "text": [
      "item 0: <tuple>\n",
      "  0: <ndarray> shape:213x320x3 dtype:uint8 range:0..248\n",
      "item 1: <tuple>\n",
      "  0: <ndarray> shape:213x320 dtype:uint8 range:18..235\n"
     ]
    }
   ],
   "source": [
    "imagepath = 'tests/data/img_formats/*'\n",
    "imagenames = ['nut_color.jpg', 'nut_grayscale.jpg']\n",
    "imagenames >> ReadImage(None, imagepath) >> PrintColType() >> Consume()"
   ]
  },
  {
   "cell_type": "code",
   "execution_count": null,
   "metadata": {},
   "outputs": [],
   "source": []
  }
 ],
 "metadata": {
  "kernelspec": {
   "display_name": "Python 3",
   "language": "python",
   "name": "python3"
  },
  "language_info": {
   "codemirror_mode": {
    "name": "ipython",
    "version": 3
   },
   "file_extension": ".py",
   "mimetype": "text/x-python",
   "name": "python",
   "nbconvert_exporter": "python",
   "pygments_lexer": "ipython3",
   "version": "3.6.5"
  }
 },
 "nbformat": 4,
 "nbformat_minor": 2
}
