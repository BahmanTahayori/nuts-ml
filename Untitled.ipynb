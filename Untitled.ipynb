{
 "cells": [
  {
   "cell_type": "code",
   "execution_count": 1,
   "metadata": {},
   "outputs": [],
   "source": [
    "from nutsml import *\n",
    "from nutsflow import *"
   ]
  },
  {
   "cell_type": "code",
   "execution_count": 8,
   "metadata": {},
   "outputs": [
    {
     "name": "stdout",
     "output_type": "stream",
     "text": [
      "\n",
      " [6, 3, 1, 7, 0, 2, 4] \n",
      " [5, 9, 8]\n"
     ]
    }
   ],
   "source": [
    "train, test = range(10) >> SplitRandom(ratio=0.7)\n",
    "print('\\n', train, '\\n', test)"
   ]
  },
  {
   "cell_type": "code",
   "execution_count": 13,
   "metadata": {},
   "outputs": [
    {
     "data": {
      "text/plain": [
       "[[0, 5, 2, 6, 4, 9, 8, 7, 3, 1], []]"
      ]
     },
     "execution_count": 13,
     "metadata": {},
     "output_type": "execute_result"
    }
   ],
   "source": [
    "from nutsml import *\n",
    "from nutsflow import *\n",
    "same_parity = lambda x: x % 2\n",
    "range(10) >> SplitRandom(ratio=0.7, constraint=same_parity)"
   ]
  },
  {
   "cell_type": "code",
   "execution_count": 25,
   "metadata": {},
   "outputs": [
    {
     "data": {
      "text/plain": [
       "(149, 74, 75)"
      ]
     },
     "execution_count": 25,
     "metadata": {},
     "output_type": "execute_result"
    }
   ],
   "source": [
    "samples = ReadPandas('tests/data/iris.csv') >> Collect()\n",
    "train, test = samples >> SplitRandom(ratio=0.5)\n",
    "len(samples), len(train), len(test)"
   ]
  },
  {
   "cell_type": "code",
   "execution_count": 67,
   "metadata": {},
   "outputs": [
    {
     "data": {
      "text/plain": [
       "{'Iris-setosa': 23, 'Iris-virginica': 16, 'Iris-versicolor': 16}"
      ]
     },
     "execution_count": 67,
     "metadata": {},
     "output_type": "execute_result"
    }
   ],
   "source": [
    "from nutsml import *\n",
    "from nutsflow import *\n",
    "\n",
    "labelcol = 4\n",
    "filepath = 'tests/data/iris.csv'\n",
    "train, test = ReadPandas(filepath) >> Take(120) >> SplitRandom(ratio=0.7)\n",
    "train >> CountValues(labelcol)\n",
    "labeldist = train >> CountValues(labelcol)\n",
    "#train >> Stratify(labelcol, labeldist) >> Shuffle(100) >> Print() >> Head(10)\n",
    "train >> Stratify(labelcol, labeldist) >> Shuffle(100) >> CountValues(labelcol)"
   ]
  },
  {
   "cell_type": "code",
   "execution_count": null,
   "metadata": {},
   "outputs": [],
   "source": []
  }
 ],
 "metadata": {
  "kernelspec": {
   "display_name": "Python 3",
   "language": "python",
   "name": "python3"
  },
  "language_info": {
   "codemirror_mode": {
    "name": "ipython",
    "version": 3
   },
   "file_extension": ".py",
   "mimetype": "text/x-python",
   "name": "python",
   "nbconvert_exporter": "python",
   "pygments_lexer": "ipython3",
   "version": "3.6.5"
  }
 },
 "nbformat": 4,
 "nbformat_minor": 2
}
