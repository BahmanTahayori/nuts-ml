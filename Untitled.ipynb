{
 "cells": [
  {
   "cell_type": "code",
   "execution_count": 1,
   "metadata": {},
   "outputs": [],
   "source": [
    "import numpy as np\n",
    "from nutsml import *\n",
    "from nutsflow import *"
   ]
  },
  {
   "cell_type": "code",
   "execution_count": 95,
   "metadata": {},
   "outputs": [
    {
     "name": "stdout",
     "output_type": "stream",
     "text": [
      "item 0: <tuple>\n",
      "  0: <ndarray> shape:213x320x3 dtype:uint8 range:0..248\n",
      "  1: <ndarray> shape:213x320 dtype:uint8 range:18..235\n",
      "item 1: <tuple>\n",
      "  0: <ndarray> shape:213x320x3 dtype:uint8 range:0..246\n",
      "  1: <ndarray> shape:213x320 dtype:uint8 range:20..235\n"
     ]
    }
   ],
   "source": [
    "samples = [('color.jpg', 'grayscale.jpg'), \n",
    "           ('color.png', 'grayscale.png')]\n",
    "  \n",
    "imagepath = 'tests/data/img_formats/nut_*'\n",
    "samples >> ReadImage((0,1), imagepath) >> PrintColType() >> Consume()"
   ]
  },
  {
   "cell_type": "code",
   "execution_count": 105,
   "metadata": {},
   "outputs": [
    {
     "name": "stdout",
     "output_type": "stream",
     "text": [
      "item 0: <tuple>\n",
      "  0: <ndarray> shape:128x64x3 dtype:uint8 range:0..242\n",
      "  1: <ndarray> shape:128x64x3 dtype:uint8 range:0..255\n",
      "item 1: <tuple>\n",
      "  0: <ndarray> shape:128x64x3 dtype:uint8 range:0..242\n",
      "  1: <ndarray> shape:128x64x3 dtype:uint8 range:0..255\n"
     ]
    }
   ],
   "source": [
    "samples = [('color.jpg', 'monochrome.jpg'), ('color.png', 'monochrome.png')]\n",
    "read_image = ReadImage((0,1), 'tests/data/img_formats/nut_*')\n",
    "normalize = TransformImage((0,1)).by('resize', 64, 128).by('gray2rgb')\n",
    "samples >> read_image >> normalize >> PrintColType() >> Consume() "
   ]
  },
  {
   "cell_type": "code",
   "execution_count": 2,
   "metadata": {},
   "outputs": [
    {
     "name": "stdout",
     "output_type": "stream",
     "text": [
      "[array([1, 2])]\n",
      "[array([3])]\n"
     ]
    }
   ],
   "source": [
    "samples = [[1], [2], [3]]\n",
    "samples >> BuildBatch(2).input(0, 'number', int) >> Print() >> Consume()"
   ]
  },
  {
   "cell_type": "code",
   "execution_count": 11,
   "metadata": {},
   "outputs": [
    {
     "name": "stdout",
     "output_type": "stream",
     "text": [
      "[[array([10., 20.])], [array([1, 2])]]\n",
      "[[array([30.])], [array([3])]]\n"
     ]
    }
   ],
   "source": [
    "samples = [[10,1], [20,2], [30,3]]\n",
    "build_batch = BuildBatch(2).input(0, 'number', float).output(1, 'number', int)\n",
    "samples >> build_batch >> Print() >> Consume()"
   ]
  },
  {
   "cell_type": "code",
   "execution_count": 3,
   "metadata": {},
   "outputs": [
    {
     "name": "stdout",
     "output_type": "stream",
     "text": [
      "[[array([[1., 2.],\n",
      "       [3., 4.]], dtype=float32)], [array([[1, 0],\n",
      "       [0, 1]], dtype=uint8)]]\n",
      "[[array([[5., 6.]], dtype=float32)], [array([[0, 1]], dtype=uint8)]]\n"
     ]
    }
   ],
   "source": [
    "from numpy import array\n",
    "samples = [(array([1, 2]), 0), \n",
    "            (array([3, 4]), 1), \n",
    "            (array([5, 6]), 1)]\n",
    "build_batch = (BuildBatch(2, prefetch=0)\n",
    "               .input(0, 'vector', 'float32')\n",
    "               .output(1, 'one_hot', 'uint8', 2))\n",
    "samples >> build_batch >> Print() >> Consume()"
   ]
  },
  {
   "cell_type": "code",
   "execution_count": 11,
   "metadata": {},
   "outputs": [
    {
     "data": {
      "text/plain": [
       "2.0"
      ]
     },
     "execution_count": 11,
     "metadata": {},
     "output_type": "execute_result"
    }
   ],
   "source": [
    "data = [1, 2, 3]\n",
    "data >> Mean()"
   ]
  },
  {
   "cell_type": "code",
   "execution_count": 10,
   "metadata": {},
   "outputs": [
    {
     "data": {
      "text/plain": [
       "4.5"
      ]
     },
     "execution_count": 10,
     "metadata": {},
     "output_type": "execute_result"
    }
   ],
   "source": [
    "mean(Range(10))"
   ]
  },
  {
   "cell_type": "code",
   "execution_count": null,
   "metadata": {},
   "outputs": [],
   "source": []
  }
 ],
 "metadata": {
  "kernelspec": {
   "display_name": "Python 3",
   "language": "python",
   "name": "python3"
  },
  "language_info": {
   "codemirror_mode": {
    "name": "ipython",
    "version": 3
   },
   "file_extension": ".py",
   "mimetype": "text/x-python",
   "name": "python",
   "nbconvert_exporter": "python",
   "pygments_lexer": "ipython3",
   "version": "3.6.5"
  }
 },
 "nbformat": 4,
 "nbformat_minor": 2
}
